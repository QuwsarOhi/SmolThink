{
 "cells": [
  {
   "cell_type": "code",
   "execution_count": 1,
   "metadata": {},
   "outputs": [
    {
     "name": "stderr",
     "output_type": "stream",
     "text": [
      "/Users/ohi/Documents/GitHub/PersonalAssistant/.venv/lib/python3.12/site-packages/tqdm/auto.py:21: TqdmWarning: IProgress not found. Please update jupyter and ipywidgets. See https://ipywidgets.readthedocs.io/en/stable/user_install.html\n",
      "  from .autonotebook import tqdm as notebook_tqdm\n"
     ]
    }
   ],
   "source": [
    "import torch\n",
    "from peft import PeftModel\n",
    "from transformers import (\n",
    "    AutoModelForCausalLM,\n",
    "    AutoTokenizer,\n",
    "    AutoConfig\n",
    ")\n",
    "from subprocess import check_output\n",
    "import os\n",
    "from shutil import rmtree"
   ]
  },
  {
   "cell_type": "code",
   "execution_count": null,
   "metadata": {},
   "outputs": [],
   "source": [
    "gguf_filename = \"qwen2-0.5-q8\"\n",
    "quantization = \"Q8_0\"\n",
    "\n",
    "llama_cpp_path = \"llama.cpp\"\n",
    "temp_model_path = None #\"\"\n",
    "\n",
    "model_path = \"weights/RegularFinetune/checkpoint-897\"\n",
    "adapter_path = None"
   ]
  },
  {
   "cell_type": "code",
   "execution_count": null,
   "metadata": {},
   "outputs": [],
   "source": [
    "config = AutoConfig.from_pretrained(\n",
    "    model_path,\n",
    "    attn_implementation = [\"eager\", \"flash_attention_2\"][0],\n",
    "    trust_remote_code=True\n",
    ")\n",
    "\n",
    "tokenizer = AutoTokenizer.from_pretrained(\n",
    "    model_path,\n",
    "    trust_remote_code=True\n",
    ")\n",
    "\n",
    "model = AutoModelForCausalLM.from_pretrained(\n",
    "    model_path,\n",
    "    config=config,\n",
    "    device_map='auto',\n",
    "    low_cpu_mem_usage=True,\n",
    "    attn_implementation=[\"eager\", \"flash_attention_2\"][0],\n",
    "    torch_dtype=torch.bfloat16,\n",
    "    trust_remote_code=True\n",
    ")"
   ]
  },
  {
   "cell_type": "code",
   "execution_count": null,
   "metadata": {},
   "outputs": [],
   "source": [
    "if adapter_path:\n",
    "    print(\"Merging adapter\")\n",
    "    model = PeftModel.from_pretrained(model, adapter_path)\n",
    "    model = model.merge_and_unload(safe_merge=True)\n",
    "\n",
    "    # URL: https://huggingface.co/docs/transformers/main/gguf\n",
    "    tokenizer.save_pretrained(temp_model_path)\n",
    "    model.save_pretrained(temp_model_path)\n",
    "\n",
    "    model_path = temp_model_path"
   ]
  },
  {
   "cell_type": "code",
   "execution_count": null,
   "metadata": {},
   "outputs": [],
   "source": [
    "# \n",
    "\n",
    "check_output([\n",
    "    \"python\",\n",
    "    os.path.join(llama_cpp_path, \"convert_hf_to_gguf.py\"),\n",
    "    model_path,\n",
    "    \"--outfile\", f\"{gguf_filename}.gguf\",\n",
    "    \"--outtype\", \"f16\"\n",
    "])\n",
    "\n",
    "if adapter_path:\n",
    "    rmtree(model_path)"
   ]
  },
  {
   "cell_type": "code",
   "execution_count": null,
   "metadata": {},
   "outputs": [],
   "source": [
    "\n",
    "check_output([\n",
    "    os.path.join(llama_cpp_path, \"llama-quantize\"),\n",
    "    f\"{gguf_filename}.gguf\",\n",
    "    f\"{gguf_filename}_{quantization}.gguf\",\n",
    "    quantization\n",
    "])\n",
    "\n",
    "os.remove(f\"{gguf_filename}.gguf\")"
   ]
  }
 ],
 "metadata": {
  "kernelspec": {
   "display_name": ".venv",
   "language": "python",
   "name": "python3"
  },
  "language_info": {
   "codemirror_mode": {
    "name": "ipython",
    "version": 3
   },
   "file_extension": ".py",
   "mimetype": "text/x-python",
   "name": "python",
   "nbconvert_exporter": "python",
   "pygments_lexer": "ipython3",
   "version": "3.12.4"
  }
 },
 "nbformat": 4,
 "nbformat_minor": 2
}
